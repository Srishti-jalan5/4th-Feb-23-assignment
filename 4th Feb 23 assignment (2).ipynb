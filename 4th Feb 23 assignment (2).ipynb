{
 "cells": [
  {
   "cell_type": "code",
   "execution_count": 1,
   "id": "cb6d6cc9-a435-46a8-9f05-c57694c02179",
   "metadata": {},
   "outputs": [],
   "source": [
    "#Q1\n",
    "\n",
    "l1=[('Sachin Tendulkar', 34357), ('Ricky Ponting', 27483), ('Jack Kallis', 25534), ('Virat Kohli', 24936)]"
   ]
  },
  {
   "cell_type": "code",
   "execution_count": 13,
   "id": "bf7bd897-3731-4985-9939-8baae2182f03",
   "metadata": {},
   "outputs": [],
   "source": [
    "l1.sort(key = lambda x : x[1])"
   ]
  },
  {
   "cell_type": "code",
   "execution_count": 14,
   "id": "b48a3379-52ff-4e6c-952a-d95513b7971f",
   "metadata": {},
   "outputs": [
    {
     "name": "stdout",
     "output_type": "stream",
     "text": [
      "[('Virat Kohli', 24936), ('Jack Kallis', 25534), ('Ricky Ponting', 27483), ('Sachin Tendulkar', 34357)]\n"
     ]
    }
   ],
   "source": [
    "print(l1)"
   ]
  },
  {
   "cell_type": "code",
   "execution_count": 19,
   "id": "51ea4139-94b2-4ca0-b994-95b3bcb89645",
   "metadata": {},
   "outputs": [
    {
     "data": {
      "text/plain": [
       "[1, 4, 9, 16, 25, 36, 49, 64, 81, 100]"
      ]
     },
     "execution_count": 19,
     "metadata": {},
     "output_type": "execute_result"
    }
   ],
   "source": [
    "#Q2\n",
    "\n",
    "l2=[1, 2, 3, 4, 5, 6, 7, 8, 9, 10]\n",
    "list(map(lambda x : x**2 ,l2))\n"
   ]
  },
  {
   "cell_type": "code",
   "execution_count": 21,
   "id": "735ecab0-2b76-4ce4-b28b-f1ab3f1a60c1",
   "metadata": {},
   "outputs": [
    {
     "data": {
      "text/plain": [
       "('1', '2', '3', '4', '5', '6', '7', '8', '9', '10')"
      ]
     },
     "execution_count": 21,
     "metadata": {},
     "output_type": "execute_result"
    }
   ],
   "source": [
    "#Q3\n",
    "\n",
    "l3=[1, 2, 3, 4, 5, 6, 7, 8, 9, 10]\n",
    "tuple(map(lambda x: str(x) , l3))\n"
   ]
  },
  {
   "cell_type": "code",
   "execution_count": 14,
   "id": "33ed7134-9cfe-444b-af8d-db4a7ca2cedb",
   "metadata": {},
   "outputs": [
    {
     "data": {
      "text/plain": [
       "620448401733239439360000"
      ]
     },
     "execution_count": 14,
     "metadata": {},
     "output_type": "execute_result"
    }
   ],
   "source": [
    "#Q4\n",
    "l4=[i for i in range(1,25)]\n",
    "from functools import reduce\n",
    "reduce(lambda x,y : x*y , l4)"
   ]
  },
  {
   "cell_type": "code",
   "execution_count": 44,
   "id": "4f7378d4-77d8-42e6-8561-e0b5bb3f8ed1",
   "metadata": {},
   "outputs": [
    {
     "data": {
      "text/plain": [
       "[6, 60, 90, 120]"
      ]
     },
     "execution_count": 44,
     "metadata": {},
     "output_type": "execute_result"
    }
   ],
   "source": [
    "#Q5\n",
    "\n",
    "l5=[2, 3, 6, 9, 27, 60, 90, 120, 55, 46]\n",
    "\n",
    "list(filter(lambda x : x%2==0 and x%3==0, l5))"
   ]
  },
  {
   "cell_type": "code",
   "execution_count": 13,
   "id": "e0da9bf8-9781-4f1a-8dd7-243c9b304179",
   "metadata": {},
   "outputs": [
    {
     "data": {
      "text/plain": [
       "['php', 'aba', 'radar', 'level']"
      ]
     },
     "execution_count": 13,
     "metadata": {},
     "output_type": "execute_result"
    }
   ],
   "source": [
    "#Q6\n",
    "\n",
    "l6=['python', 'php', 'aba', 'radar', 'level']\n",
    "\n",
    "list(filter(lambda x : x[::1] == x[::-1] ,l6))\n"
   ]
  },
  {
   "cell_type": "code",
   "execution_count": null,
   "id": "755a6ac3-b2d3-4044-9184-b41a4f45b7a6",
   "metadata": {},
   "outputs": [],
   "source": []
  }
 ],
 "metadata": {
  "kernelspec": {
   "display_name": "Python 3 (ipykernel)",
   "language": "python",
   "name": "python3"
  },
  "language_info": {
   "codemirror_mode": {
    "name": "ipython",
    "version": 3
   },
   "file_extension": ".py",
   "mimetype": "text/x-python",
   "name": "python",
   "nbconvert_exporter": "python",
   "pygments_lexer": "ipython3",
   "version": "3.10.8"
  }
 },
 "nbformat": 4,
 "nbformat_minor": 5
}
